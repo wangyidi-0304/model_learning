{
 "cells": [
  {
   "cell_type": "markdown",
   "id": "ac41919e-3383-4768-af1c-3ee9ef7edfe1",
   "metadata": {},
   "source": [
    "# PEFT 库 QLoRA 实战 - ChatGLM3-6B"
   ]
  },
  {
   "cell_type": "code",
   "execution_count": 2,
   "id": "61bb2136-1d9a-452d-9a1a-10b0bebc2660",
   "metadata": {},
   "outputs": [],
   "source": [
    "import os\n",
    "os.environ[\"CUDA_VISIBLE_DEVICES\"] = \"1\""
   ]
  },
  {
   "cell_type": "code",
   "execution_count": 14,
   "id": "2d5bebd8-e9b7-42a0-ac44-6d8f75c925a4",
   "metadata": {},
   "outputs": [],
   "source": [
    "# 定义全局变量和参数\n",
    "model_name_or_path = 'THUDM/chatglm3-6b'  # 模型ID或本地路径\n",
    "train_data_path = 'HasturOfficial/adgen'    # 训练数据路径\n",
    "eval_data_path = None                     # 验证数据路径，如果没有则设置为None\n",
    "seed = 8                                 # 随机种子\n",
    "max_input_length = 512                    # 输入的最大长度\n",
    "max_output_length = 1536                  # 输出的最大长度\n",
    "lora_rank = 4                             # LoRA秩\n",
    "lora_alpha = 32                           # LoRA alpha值\n",
    "lora_dropout = 0.05                       # LoRA Dropout率\n",
    "resume_from_checkpoint = None             # 如果从checkpoint恢复训练，指定路径\n",
    "prompt_text = ''                          # 所有数据前的指令文本\n",
    "compute_dtype = 'fp32'                    # 计算数据类型（fp32, fp16, bf16）"
   ]
  },
  {
   "cell_type": "markdown",
   "id": "aa40c820-6e7d-4d4b-bde9-101c2ec1686f",
   "metadata": {},
   "source": [
    "# 数据准备"
   ]
  },
  {
   "cell_type": "code",
   "execution_count": 15,
   "id": "870454e7-eac8-420b-aa2e-8c136f828eab",
   "metadata": {},
   "outputs": [],
   "source": [
    "from datasets import load_dataset\n",
    "\n",
    "dataset = load_dataset(train_data_path)"
   ]
  },
  {
   "cell_type": "code",
   "execution_count": 4,
   "id": "0b908b90-063a-485c-a3ef-fe4115c0f7e2",
   "metadata": {},
   "outputs": [
    {
     "data": {
      "text/plain": [
       "DatasetDict({\n",
       "    train: Dataset({\n",
       "        features: ['content', 'summary'],\n",
       "        num_rows: 114599\n",
       "    })\n",
       "    validation: Dataset({\n",
       "        features: ['content', 'summary'],\n",
       "        num_rows: 1070\n",
       "    })\n",
       "})"
      ]
     },
     "execution_count": 4,
     "metadata": {},
     "output_type": "execute_result"
    }
   ],
   "source": [
    "dataset"
   ]
  },
  {
   "cell_type": "code",
   "execution_count": 17,
   "id": "b70c253a-356b-441a-85c9-d3e545041b1e",
   "metadata": {},
   "outputs": [],
   "source": [
    "from datasets import ClassLabel, Sequence\n",
    "import random\n",
    "import pandas as pd\n",
    "from IPython.display import display, HTML\n",
    "\n",
    "def show_random_elements(dataset, num_examples=10):\n",
    "    assert num_examples <= len(dataset), \"Can't pick more elements than there are in the dataset.\"\n",
    "    picks = []\n",
    "    for _ in range(num_examples):\n",
    "        pick = random.randint(0, len(dataset)-1)\n",
    "        while pick in picks:\n",
    "            pick = random.randint(0, len(dataset)-1)\n",
    "        picks.append(pick)\n",
    "    \n",
    "    df = pd.DataFrame(dataset[picks])\n",
    "    for column, typ in dataset.features.items():\n",
    "        if isinstance(typ, ClassLabel):\n",
    "            df[column] = df[column].transform(lambda i: typ.names[i])\n",
    "        elif isinstance(typ, Sequence) and isinstance(typ.feature, ClassLabel):\n",
    "            df[column] = df[column].transform(lambda x: [typ.feature.names[i] for i in x])\n",
    "    display(HTML(df.to_html()))"
   ]
  },
  {
   "cell_type": "code",
   "execution_count": 18,
   "id": "e768de7d-2c60-4749-a372-48a6febed968",
   "metadata": {},
   "outputs": [
    {
     "data": {
      "text/html": [
       "<table border=\"1\" class=\"dataframe\">\n",
       "  <thead>\n",
       "    <tr style=\"text-align: right;\">\n",
       "      <th></th>\n",
       "      <th>content</th>\n",
       "      <th>summary</th>\n",
       "    </tr>\n",
       "  </thead>\n",
       "  <tbody>\n",
       "    <tr>\n",
       "      <th>0</th>\n",
       "      <td>类型#上衣*材质#涤纶*材质#纤维*图案#线条*衣样式#风衣*衣样式#外套*衣门襟#无扣</td>\n",
       "      <td>优选客供莱&lt;UNK&gt;纤维+涤纶材质，手感亲肤细腻，表面别致的立体压褶提花，清晰有质感。设计感时尚的风衣外套，采用无扣开门襟设计，线条优美，展现随意个性又能凹造型。藏于绗缝的两侧插袋，实用又方便。</td>\n",
       "    </tr>\n",
       "    <tr>\n",
       "      <th>1</th>\n",
       "      <td>类型#上衣*颜色#红色*风格#复古*风格#中国风*图案#复古*图案#刺绣*衣样式#马甲*衣样式#外套*衣款式#盘扣</td>\n",
       "      <td>马甲外套是早春的时尚产物，能够对坑微凉的气候，又能带出属于时尚的搭配功能，将实用性与美观性并兼。复古的大红色，增添女性的柔美气息。盘扣装饰的门襟，展现出古典雅致的中国风。惟妙惟肖的刺绣图案，为裙身带出一笔唯美的即视感。侧边开衩的处理，行走间绽放出荷尔蒙的吸引力。</td>\n",
       "    </tr>\n",
       "    <tr>\n",
       "      <th>2</th>\n",
       "      <td>类型#上衣*版型#宽松*风格#英伦*图案#格子*衣样式#马甲*衣样式#西装*衣长#短款</td>\n",
       "      <td>换季的时尚怎么能少的&lt;UNK&gt;一款气质的西装马甲做点缀呢？干练的短款版型与宽松的设计想邂逅，散发出bf风的帅气之感。衣身格纹的点缀更是有一种英伦格调的绅士感呢。</td>\n",
       "    </tr>\n",
       "    <tr>\n",
       "      <th>3</th>\n",
       "      <td>类型#上衣*版型#显瘦*风格#知性*风格#休闲*衣样式#衬衫*衣款式#腰带</td>\n",
       "      <td>高腰的裤型，修饰出修长的腿型，显瘦的同时还能轻松遮住各种赘肉；裤子后袋设计，增加几分休闲时髦感；上衣的衬衫样式，帅气知性，很有女人味。腰部配了腰带设计，轻松细腰，显瘦又拉长比例，非常有格调。</td>\n",
       "    </tr>\n",
       "    <tr>\n",
       "      <th>4</th>\n",
       "      <td>类型#裙*图案#印花*裙型#a字*裙下摆#荷叶边*裙袖长#七分袖*裙领型#v领*裙领型#翻领</td>\n",
       "      <td>大翻领加荷叶边的设计非常甜美，v领的设计也凸显出精致的锁骨。&lt;UNK&gt;印花的图案很可爱，排列也非常有设计感。a字版型有娇憨的感觉，也非常遮肉。恰到好处的裙长让腿部更加纤细修长。七分袖的设计也露出了手臂最细的部分。</td>\n",
       "    </tr>\n",
       "    <tr>\n",
       "      <th>5</th>\n",
       "      <td>类型#裙*风格#复古*风格#性感*图案#格子*图案#复古*图案#线条*裙长#连衣裙*裙领型#v领*裙款式#拼接*裙款式#绑带</td>\n",
       "      <td>实穿率超强的一件连衣裙，配以插画格子图案，丰富裙身很是独特。复古的v领视觉上修饰颈部线条，配以可调节的肩带增添一份小性感。而腰间的绑带设计，无形之中修饰腰部曲线更显小女人的气息。撞色织带拼接的下摆，平添裙身的复古气息！</td>\n",
       "    </tr>\n",
       "    <tr>\n",
       "      <th>6</th>\n",
       "      <td>类型#裙*材质#牛仔布*风格#简约*图案#撞色*裙型#牛仔裙*裙型#包臀裙*裙型#鱼尾裙*裙长#半身裙*裙衣长#中长款</td>\n",
       "      <td>设计剪裁立体有心意，穿着更加有型有范儿。设计师匠心独制，中长款设计为此款包臀裙添彩，另外牛仔元素融合鱼尾设计又将半身裙点缀得恰到好处。简约大方的牛仔，使每个女孩子都能轻松驾驭，展现夏日里的好身材，释放女性独特魅力。裙身撞色的设计，丰富裙身的层次感。</td>\n",
       "    </tr>\n",
       "    <tr>\n",
       "      <th>7</th>\n",
       "      <td>类型#上衣*版型#显瘦*图案#线条*衣样式#打底衫*衣领型#v领*衣袖型#喇叭袖*衣款式#飘带</td>\n",
       "      <td>小巧的飘带领口，优雅又带有小俏皮，微微丝光材质，轻巧的营造出衣物的流动感。宽容的喇叭袖子设计，很好地凸显出纤细的手臂线条，而且不挑风格，优雅俏皮都能驾驭，举手投足间散发优雅气息。圆v领的设计时髦又能突显完美锁骨，修身显瘦的版型怎么穿怎么好看，可外穿也可以作为打底衫。</td>\n",
       "    </tr>\n",
       "    <tr>\n",
       "      <th>8</th>\n",
       "      <td>类型#裤*图案#印花*裤款式#口袋*裤腰型#松紧腰*裤口#小脚</td>\n",
       "      <td>这款时尚印花休闲裤采用松紧束脚版型剪裁设计，不仅可以轻松驾驭各种穿搭单品，而且还让穿着者的腿部更加笔直、修长，非常适合人们的日常穿搭；而侧边口袋做工精良，优雅有型，品质保证，穿着有型又不失格调。</td>\n",
       "    </tr>\n",
       "    <tr>\n",
       "      <th>9</th>\n",
       "      <td>类型#裙*材质#天丝*风格#简约*风格#高贵*裙型#百褶*裙型#a字*裙长#半身裙*裙款式#松紧带</td>\n",
       "      <td>这款半身裙采用了似烟雾的蓝灰色调，自带满满的仙气感。光滑的天丝面料散发才淡淡的光泽感，尽显简约大气的美。a字的百褶裙设计，让你行走间流露出一股慵懒随性的韵味，让人无法抗拒。松紧带的设计，一秒勾勒出腰身，尽显优雅的高贵女神范。</td>\n",
       "    </tr>\n",
       "    <tr>\n",
       "      <th>10</th>\n",
       "      <td>类型#上衣*颜色#粉色*风格#清新*图案#植物*图案#线条*图案#刺绣*衣样式#棒球服*衣长#短款*衣款式#拼接</td>\n",
       "      <td>时髦与帅气并存的棒球服历来都是春季的主打。设计师在经典版型之上，加以廓形小短款设计，不挑身型的同时可以帮你优化比例，打造修长迷人的下半身线条。袖间下摆融入粉色拼接，结合嫩绿色的包边细节，迎面而来的小清新氛围，与春暖花开的春天尤为合拍。后背注入栩栩如生的花卉刺绣，明媚抢眼，转身间给人留下满满的朝气活力。</td>\n",
       "    </tr>\n",
       "    <tr>\n",
       "      <th>11</th>\n",
       "      <td>类型#上衣*风格#休闲*衣样式#衬衫*衣领型#西装领*衣袖型#落肩袖*衣门襟#单排多扣</td>\n",
       "      <td>BRAND休闲衬衫选用西装领型设计，上身舒适帅气，融合直筒廓形剪裁，带来舒适自由的穿着感。正面单排多扣门襟闭合，具有轻松休闲的穿着体验，袖型采用舒适落肩袖设计，休闲慵懒气息浓郁。</td>\n",
       "    </tr>\n",
       "    <tr>\n",
       "      <th>12</th>\n",
       "      <td>类型#裤*版型#宽松*颜色#黑色</td>\n",
       "      <td>个性时尚的休闲裤采用了纯黑色的色调设计，纯黑色的色调，凸显时尚摩登的穿着质感，整体打造时尚的，精致的穿着风格，精湛的剪裁打造了精湛，时尚的品质工艺。宽松舒适的版型，凸显随性自然的特点。</td>\n",
       "    </tr>\n",
       "    <tr>\n",
       "      <th>13</th>\n",
       "      <td>类型#上衣*风格#复古*风格#清新*风格#性感*图案#复古*图案#线条*衣样式#衬衫*衣领型#一字领*衣款式#绑带</td>\n",
       "      <td>灵活多变又百搭的可拆卸式衬衫、连衣裙两件套，蓝白色的搭配清新雅致。一字领设计展现肩颈部肌肤和线条，性感迷人，两侧及后背的绑带带来更服帖舒适的穿着效果，束出曼妙腰身同时赋予造型以复古典雅气息。</td>\n",
       "    </tr>\n",
       "    <tr>\n",
       "      <th>14</th>\n",
       "      <td>类型#裙*图案#碎花*裙袖型#喇叭袖*裙款式#收腰</td>\n",
       "      <td>春天一定要备上两三款小碎花裙。如果再加上喇叭袖的设计，就再好不过了，简单而圣洁。正如你所见。微微收腰的版型，让完美的腰部曲线似乎若隐若现。耀眼的让你离不开视线，充满着优雅迷人的气息。超级火爆的喇叭袖，更是你应该纳入衣橱的好单品。面料透气性和垂感都特别好。彰显满满的浪漫与洒脱感。</td>\n",
       "    </tr>\n",
       "    <tr>\n",
       "      <th>15</th>\n",
       "      <td>类型#上衣*颜色#纯色*风格#淑女*风格#简约*风格#清新*图案#纯色*衣样式#外套</td>\n",
       "      <td>下摆非常具有设计感的一款&lt;UNK&gt;外套，蓬松的&lt;UNK&gt;下摆俏皮可爱又增添了很多甜美感。纯色的衣身非常的符合整体，让宝贝穿上更有简约清新的气质，看上去就像是个娴静优雅的小淑女。</td>\n",
       "    </tr>\n",
       "    <tr>\n",
       "      <th>16</th>\n",
       "      <td>类型#裙*版型#宽松*风格#复古*图案#格子*图案#复古*裙下摆#荷叶边*裙长#连衣裙*裙款式#不对称</td>\n",
       "      <td>这款连衣裙采用宽松的版型设计，搭配精致的剪裁，给身体更多的活动量，行动更为方便，穿着更为舒适。而荷叶边点缀设计，结合不对称设计，打破常规，显得与众不同又不失浪漫气质。加上格纹设计，显得复古气质十足，更为经典。</td>\n",
       "    </tr>\n",
       "    <tr>\n",
       "      <th>17</th>\n",
       "      <td>类型#上衣*版型#宽松*版型#显瘦*颜色#黑色*颜色#灰色*图案#条纹*衣样式#衬衫</td>\n",
       "      <td>衬衫是春夏日的衣橱必备款式，这次推荐的这件衬衫，吸人眼球的设计在于竖条纹的搭配。竖条纹修身显瘦，很好的修饰了女性上身的曲线。颜色为冷灰色，没有黑色那么暗沉，不挑肤色。宽松的版型也是胖女生的福音。触感柔软，让衬衫有了百变的穿法。</td>\n",
       "    </tr>\n",
       "    <tr>\n",
       "      <th>18</th>\n",
       "      <td>类型#裙*材质#雪纺*图案#线条*图案#印花*裙腰型#高腰*裙长#连衣裙*裙领型#立领*裙款式#纽扣</td>\n",
       "      <td>这条好看亮眼的雪纺连衣裙，穿着舒适更显气质。立领设计，修饰脖颈部线条，更显修长白皙；口红印花设计，个性亮眼更显设计感；高腰设计，提升腰部线条，拉长身材比例，整体更显高挑；纽扣设计，精致亮眼不显单调。</td>\n",
       "    </tr>\n",
       "    <tr>\n",
       "      <th>19</th>\n",
       "      <td>类型#上衣*版型#宽松*图案#线条*衣样式#衬衫*衣领型#翻领*衣门襟#单排扣*衣款式#不对称*衣款式#抽褶*衣款式#收腰</td>\n",
       "      <td>褶皱收腰的设计，让宽松bf版型衬衣也能穿出曼妙的腰部线条。极简的翻领单排扣，有了珍珠扣的点缀，利落不乏女性的柔美感。个性不对称错位下摆的设计，让严谨的衬衣一下子就变身为时髦精必备的单品。</td>\n",
       "    </tr>\n",
       "  </tbody>\n",
       "</table>"
      ],
      "text/plain": [
       "<IPython.core.display.HTML object>"
      ]
     },
     "metadata": {},
     "output_type": "display_data"
    }
   ],
   "source": [
    "show_random_elements(dataset[\"train\"], num_examples=20)\n"
   ]
  },
  {
   "cell_type": "markdown",
   "id": "189e3ae7-1b99-45e2-9382-32d57d8ce23e",
   "metadata": {},
   "source": [
    "# 使用 ChatGLM3-6b Tokenizer 处理数据"
   ]
  },
  {
   "cell_type": "code",
   "execution_count": 7,
   "id": "991e61c5-4d72-4714-bb6d-93af1b639e3a",
   "metadata": {},
   "outputs": [],
   "source": [
    "from transformers import AutoTokenizer\n",
    "\n",
    "# revision='b098244' 版本对应的 ChatGLM3-6B 设置 use_reentrant=False\n",
    "# 最新版本 use_reentrant 被设置为 True，会增加不必要的显存开销\n",
    "tokenizer = AutoTokenizer.from_pretrained(model_name_or_path,\n",
    "                                          trust_remote_code=True,\n",
    "                                         )"
   ]
  },
  {
   "cell_type": "code",
   "execution_count": 8,
   "id": "f64d3518-5f42-481d-a167-2bfe810f5470",
   "metadata": {},
   "outputs": [],
   "source": [
    "# tokenize_func 函数\n",
    "def tokenize_func(example, tokenizer, ignore_label_id=-100):\n",
    "    \"\"\"\n",
    "    对单个数据样本进行tokenize处理。\n",
    "\n",
    "    参数:\n",
    "    example (dict): 包含'content'和'summary'键的字典，代表训练数据的一个样本。\n",
    "    tokenizer (transformers.PreTrainedTokenizer): 用于tokenize文本的tokenizer。\n",
    "    ignore_label_id (int, optional): 在label中用于填充的忽略ID，默认为-100。\n",
    "\n",
    "    返回:\n",
    "    dict: 包含'tokenized_input_ids'和'labels'的字典，用于模型训练。\n",
    "    \"\"\"\n",
    "\n",
    "    # 构建问题文本\n",
    "    question = prompt_text + example['content']\n",
    "    if example.get('input', None) and example['input'].strip():\n",
    "        question += f'\\n{example[\"input\"]}'\n",
    "\n",
    "    # 构建答案文本\n",
    "    answer = example['summary']\n",
    "\n",
    "    # 对问题和答案文本进行tokenize处理\n",
    "    q_ids = tokenizer.encode(text=question,padding=\"max_length\" , add_special_tokens=False)\n",
    "    a_ids = tokenizer.encode(text=answer,padding=\"max_length\" , add_special_tokens=False)\n",
    "\n",
    "    # 如果tokenize后的长度超过最大长度限制，则进行截断\n",
    "    if len(q_ids) > max_input_length - 2:  # 保留空间给gmask和bos标记\n",
    "        q_ids = q_ids[:max_input_length - 2]\n",
    "    if len(a_ids) > max_output_length - 1:  # 保留空间给eos标记\n",
    "        a_ids = a_ids[:max_output_length - 1]\n",
    "\n",
    "    # 构建模型的输入格式\n",
    "    input_ids = tokenizer.build_inputs_with_special_tokens(q_ids, a_ids)\n",
    "    question_length = len(q_ids) + 2  # 加上gmask和bos标记\n",
    "\n",
    "    # 构建标签，对于问题部分的输入使用ignore_label_id进行填充\n",
    "    labels = [ignore_label_id] * question_length + input_ids[question_length:]\n",
    "\n",
    "    return {'input_ids': input_ids, 'labels': labels}"
   ]
  },
  {
   "cell_type": "code",
   "execution_count": 9,
   "id": "14a0f816-b9ef-4653-a5f8-ec9faaf29e70",
   "metadata": {},
   "outputs": [],
   "source": [
    "column_names = dataset['train'].column_names\n",
    "tokenized_dataset = dataset['train'].map(\n",
    "    lambda example: tokenize_func(example, tokenizer),\n",
    "    batched=False, \n",
    "    remove_columns=column_names\n",
    ")"
   ]
  },
  {
   "cell_type": "code",
   "execution_count": null,
   "id": "d1c86747-646d-4475-8b8f-d1615db813a9",
   "metadata": {},
   "outputs": [],
   "source": []
  },
  {
   "cell_type": "code",
   "execution_count": 10,
   "id": "1711863d-fc91-4984-87e8-8eff548f0731",
   "metadata": {},
   "outputs": [
    {
     "data": {
      "text/html": [
       "<table border=\"1\" class=\"dataframe\">\n",
       "  <thead>\n",
       "    <tr style=\"text-align: right;\">\n",
       "      <th></th>\n",
       "      <th>input_ids</th>\n",
       "      <th>labels</th>\n",
       "    </tr>\n",
       "  </thead>\n",
       "  <tbody>\n",
       "    <tr>\n",
       "      <th>0</th>\n",
       "      <td>[64790, 64792, 30910, 33467, 31010, 56778, 30998, 56778, 54888, 31010, 37462, 30910, 36250, 55683, 54848, 32492, 31735, 32144, 39745, 40786, 31759, 41424, 43386, 54892, 54657, 55360, 56300, 54530, 37027, 31123, 41099, 33109, 34002, 31835, 33168, 51827, 32291, 41553, 56059, 54661, 54619, 35878, 31155, 37462, 56778, 57069, 55426, 31735, 33612, 41256, 31123, 54377, 54617, 56164, 33168, 33588, 32998, 32311, 34219, 46948, 31155, 54882, 54892, 54657, 58747, 55881, 32048, 54986, 54803, 31123, 55432, 54557, 32647, 36803, 54530, 35878, 48465, 31155, 2]</td>\n",
       "      <td>[-100, -100, -100, -100, -100, -100, -100, -100, -100, -100, -100, 30910, 36250, 55683, 54848, 32492, 31735, 32144, 39745, 40786, 31759, 41424, 43386, 54892, 54657, 55360, 56300, 54530, 37027, 31123, 41099, 33109, 34002, 31835, 33168, 51827, 32291, 41553, 56059, 54661, 54619, 35878, 31155, 37462, 56778, 57069, 55426, 31735, 33612, 41256, 31123, 54377, 54617, 56164, 33168, 33588, 32998, 32311, 34219, 46948, 31155, 54882, 54892, 54657, 58747, 55881, 32048, 54986, 54803, 31123, 55432, 54557, 32647, 36803, 54530, 35878, 48465, 31155, 2]</td>\n",
       "    </tr>\n",
       "  </tbody>\n",
       "</table>"
      ],
      "text/plain": [
       "<IPython.core.display.HTML object>"
      ]
     },
     "metadata": {},
     "output_type": "display_data"
    }
   ],
   "source": [
    "show_random_elements(tokenized_dataset, num_examples=1)\n"
   ]
  },
  {
   "cell_type": "markdown",
   "id": "004a7c89-5fba-479f-b576-38a334778be9",
   "metadata": {},
   "source": [
    "# 数据集处理：shuffle & flatten"
   ]
  },
  {
   "cell_type": "code",
   "execution_count": 11,
   "id": "dd864f80-ee7a-481f-adb2-08fc35004576",
   "metadata": {},
   "outputs": [],
   "source": [
    "tokenized_dataset = tokenized_dataset.shuffle(seed=seed)\n"
   ]
  },
  {
   "cell_type": "code",
   "execution_count": 12,
   "id": "3a26881c-a5f3-4110-870c-3fc5a2646021",
   "metadata": {},
   "outputs": [],
   "source": [
    "tokenized_dataset = tokenized_dataset.flatten_indices()\n"
   ]
  },
  {
   "cell_type": "markdown",
   "id": "58576e27-4a41-45ef-9248-9414fde08438",
   "metadata": {},
   "source": [
    "\n",
    "# 定义 DataCollatorForChatGLM 类 批量处理数据"
   ]
  },
  {
   "cell_type": "code",
   "execution_count": 13,
   "id": "db0a2dc2-2f35-44df-9760-865461ed192a",
   "metadata": {},
   "outputs": [],
   "source": [
    "import torch\n",
    "from typing import List, Dict, Optional\n",
    "\n",
    "# DataCollatorForChatGLM 类\n",
    "class DataCollatorForChatGLM:\n",
    "    \"\"\"\n",
    "    用于处理批量数据的DataCollator，尤其是在使用 ChatGLM 模型时。\n",
    "\n",
    "    该类负责将多个数据样本（tokenized input）合并为一个批量，并在必要时进行填充(padding)。\n",
    "\n",
    "    属性:\n",
    "    pad_token_id (int): 用于填充(padding)的token ID。\n",
    "    max_length (int): 单个批量数据的最大长度限制。\n",
    "    ignore_label_id (int): 在标签中用于填充的ID。\n",
    "    \"\"\"\n",
    "\n",
    "    def __init__(self, pad_token_id: int, max_length: int = 2048, ignore_label_id: int = -100):\n",
    "        \"\"\"\n",
    "        初始化DataCollator。\n",
    "\n",
    "        参数:\n",
    "        pad_token_id (int): 用于填充(padding)的token ID。\n",
    "        max_length (int): 单个批量数据的最大长度限制。\n",
    "        ignore_label_id (int): 在标签中用于填充的ID，默认为-100。\n",
    "        \"\"\"\n",
    "        self.pad_token_id = pad_token_id\n",
    "        self.ignore_label_id = ignore_label_id\n",
    "        self.max_length = max_length\n",
    "\n",
    "    def __call__(self, batch_data: List[Dict[str, List]]) -> Dict[str, torch.Tensor]:\n",
    "        \"\"\"\n",
    "        处理批量数据。\n",
    "\n",
    "        参数:\n",
    "        batch_data (List[Dict[str, List]]): 包含多个样本的字典列表。\n",
    "\n",
    "        返回:\n",
    "        Dict[str, torch.Tensor]: 包含处理后的批量数据的字典。\n",
    "        \"\"\"\n",
    "        # 计算批量中每个样本的长度\n",
    "        len_list = [len(d['input_ids']) for d in batch_data]\n",
    "        batch_max_len = max(len_list)  # 找到最长的样本长度\n",
    "\n",
    "        input_ids, labels = [], []\n",
    "        for len_of_d, d in sorted(zip(len_list, batch_data), key=lambda x: -x[0]):\n",
    "            pad_len = batch_max_len - len_of_d  # 计算需要填充的长度\n",
    "            # 添加填充，并确保数据长度不超过最大长度限制\n",
    "            ids = d['input_ids'] + [self.pad_token_id] * pad_len\n",
    "            label = d['labels'] + [self.ignore_label_id] * pad_len\n",
    "            if batch_max_len > self.max_length:\n",
    "                ids = ids[:self.max_length]\n",
    "                label = label[:self.max_length]\n",
    "            input_ids.append(torch.LongTensor(ids))\n",
    "            labels.append(torch.LongTensor(label))\n",
    "\n",
    "        # 将处理后的数据堆叠成一个tensor\n",
    "        input_ids = torch.stack(input_ids)\n",
    "        labels = torch.stack(labels)\n",
    "\n",
    "        return {'input_ids': input_ids, 'labels': labels}"
   ]
  },
  {
   "cell_type": "code",
   "execution_count": 14,
   "id": "ed4959bb-d1fc-4d4d-be7a-875e1d4ebdbd",
   "metadata": {},
   "outputs": [],
   "source": [
    "# 准备数据整理器\n",
    "data_collator = DataCollatorForChatGLM(pad_token_id=tokenizer.pad_token_id)"
   ]
  },
  {
   "cell_type": "markdown",
   "id": "360bb56b-26b6-4a29-b407-42daf27c1e46",
   "metadata": {},
   "source": [
    "# 训练模型"
   ]
  },
  {
   "cell_type": "markdown",
   "id": "5cfc4001-90b1-4989-8662-2e7031ce8516",
   "metadata": {},
   "source": [
    "## 加载 ChatGLM3-6B 量化模型\n",
    "## 使用 nf4 量化数据类型加载模型，开启双量化配置，以bf16混合精度训练，预估显存占用接近4GB"
   ]
  },
  {
   "cell_type": "code",
   "execution_count": 15,
   "id": "c1476ddc-8e38-47b6-9ef6-2506e08fc540",
   "metadata": {},
   "outputs": [],
   "source": [
    "from transformers import AutoModel, BitsAndBytesConfig\n",
    "\n",
    "_compute_dtype_map = {\n",
    "    'fp32': torch.float32,\n",
    "    'fp16': torch.float16,\n",
    "    'bf16': torch.bfloat16\n",
    "}\n",
    "\n",
    "# QLoRA 量化配置\n",
    "q_config = BitsAndBytesConfig(load_in_4bit=True,\n",
    "                              bnb_4bit_quant_type='nf4',\n",
    "                              bnb_4bit_use_double_quant=True,\n",
    "                              bnb_4bit_compute_dtype=_compute_dtype_map['bf16'])"
   ]
  },
  {
   "cell_type": "code",
   "execution_count": 16,
   "id": "61609f1a-045a-4f22-8293-f72d4c1fe1a2",
   "metadata": {},
   "outputs": [],
   "source": [
    "# 加载模型"
   ]
  },
  {
   "cell_type": "code",
   "execution_count": 17,
   "id": "12c603b3-f893-4e9f-b879-6e560570d086",
   "metadata": {},
   "outputs": [
    {
     "data": {
      "application/vnd.jupyter.widget-view+json": {
       "model_id": "be843e12b7d24896ad5c9976c09482db",
       "version_major": 2,
       "version_minor": 0
      },
      "text/plain": [
       "Loading checkpoint shards:   0%|          | 0/7 [00:00<?, ?it/s]"
      ]
     },
     "metadata": {},
     "output_type": "display_data"
    }
   ],
   "source": [
    "# revision='b098244' 版本对应的 ChatGLM3-6B 设置 use_reentrant=False\n",
    "# 最新版本 use_reentrant 被设置为 True，会增加不必要的显存开销\n",
    "model = AutoModel.from_pretrained(model_name_or_path,\n",
    "                                  quantization_config=q_config,\n",
    "                                  device_map='auto',\n",
    "                                  trust_remote_code=True)"
   ]
  },
  {
   "cell_type": "code",
   "execution_count": 18,
   "id": "d2b72214-806d-4237-849b-d63bbb42a351",
   "metadata": {},
   "outputs": [
    {
     "name": "stdout",
     "output_type": "stream",
     "text": [
      "3739.69MiB\n"
     ]
    }
   ],
   "source": [
    "# 获取当前模型占用的 GPU显存（差值为预留给 PyTorch 的显存）\n",
    "memory_footprint_bytes = model.get_memory_footprint()\n",
    "memory_footprint_mib = memory_footprint_bytes / (1024 ** 2)  # 转换为 MiB\n",
    "\n",
    "print(f\"{memory_footprint_mib:.2f}MiB\")"
   ]
  },
  {
   "cell_type": "markdown",
   "id": "00326fc7-09d1-42cc-a5fd-c5e3fa781e3f",
   "metadata": {},
   "source": [
    "# 预处理量化模型"
   ]
  },
  {
   "cell_type": "code",
   "execution_count": 19,
   "id": "48db42d1-4d44-4268-a4dc-e9e918277238",
   "metadata": {},
   "outputs": [],
   "source": [
    "from peft import TaskType, LoraConfig, get_peft_model, prepare_model_for_kbit_training\n",
    "\n",
    "kbit_model = prepare_model_for_kbit_training(model)"
   ]
  },
  {
   "cell_type": "markdown",
   "id": "d1a59e6d-5332-41a8-af8a-c8d5096fd87f",
   "metadata": {},
   "source": [
    "# 自定义模型新增 Adapter"
   ]
  },
  {
   "cell_type": "code",
   "execution_count": 20,
   "id": "bc7e5e6a-2cf2-4884-b134-3e05c4f3b4e2",
   "metadata": {},
   "outputs": [],
   "source": [
    "from peft.utils import TRANSFORMERS_MODELS_TO_LORA_TARGET_MODULES_MAPPING\n",
    "\n",
    "target_modules = TRANSFORMERS_MODELS_TO_LORA_TARGET_MODULES_MAPPING['chatglm']"
   ]
  },
  {
   "cell_type": "code",
   "execution_count": 21,
   "id": "433c7a40-456a-4d72-83e2-750fc3ce6a94",
   "metadata": {},
   "outputs": [
    {
     "data": {
      "text/plain": [
       "['query_key_value']"
      ]
     },
     "execution_count": 21,
     "metadata": {},
     "output_type": "execute_result"
    }
   ],
   "source": [
    "target_modules"
   ]
  },
  {
   "cell_type": "code",
   "execution_count": 22,
   "id": "cc264389-603d-49da-b3f4-9dcae4656240",
   "metadata": {},
   "outputs": [],
   "source": [
    "lora_config = LoraConfig(\n",
    "    target_modules=target_modules,\n",
    "    r=lora_rank,\n",
    "    lora_alpha=lora_alpha,\n",
    "    lora_dropout=lora_dropout,\n",
    "    bias='none',\n",
    "    inference_mode=False,\n",
    "    task_type=TaskType.CAUSAL_LM\n",
    ")"
   ]
  },
  {
   "cell_type": "code",
   "execution_count": 23,
   "id": "2de0e531-2675-4505-bbae-e27d98ba2d25",
   "metadata": {},
   "outputs": [],
   "source": [
    "qlora_model = get_peft_model(kbit_model, lora_config)\n"
   ]
  },
  {
   "cell_type": "code",
   "execution_count": 24,
   "id": "387d7fad-7c97-4a89-8995-c1d6998a6c4d",
   "metadata": {},
   "outputs": [
    {
     "name": "stdout",
     "output_type": "stream",
     "text": [
      "trainable params: 974,848 || all params: 6,244,558,848 || trainable%: 0.0156\n"
     ]
    }
   ],
   "source": [
    "qlora_model.print_trainable_parameters()\n"
   ]
  },
  {
   "cell_type": "markdown",
   "id": "ec44295f-1ec2-4869-b179-b9e4107dca16",
   "metadata": {},
   "source": [
    "# 训练超参数配置"
   ]
  },
  {
   "cell_type": "markdown",
   "id": "d7f40d4d-5ecc-46dd-9545-dafda179fdab",
   "metadata": {},
   "source": [
    "1个epoch表示对训练集的所有样本进行一次完整的训练。\n",
    "- num_train_epochs 表示要完整进行多少个 epochs 的训练。\n",
    "- 关于使用 num_train_epochs 时，训练总步数 steps 的计算方法\n",
    "- 训练总步数： total_steps = steps/epoch * num_train_epochs\n",
    "- 每个epoch的训练步数：steps/epoch = num_train_examples / (batch_size * gradient_accumulation_steps)\n",
    "以 adgen 数据集为例计算\n",
    "```\n",
    "DatasetDict({\n",
    "    train: Dataset({\n",
    "        features: ['content', 'summary'],\n",
    "        num_rows: 114599\n",
    "    })\n",
    "    validation: Dataset({\n",
    "        features: ['content', 'summary'],\n",
    "        num_rows: 1070\n",
    "    })\n",
    "})\n",
    "```\n",
    "代入超参数和配置进行计算：\n",
    "```\n",
    "num_train_epochs = 1\n",
    "num_train_examples = 114599\n",
    "batch_size = 16\n",
    "gradient_accumulation_steps = 4\n",
    "\n",
    "\n",
    "steps = num_train_epochs * num_train_examples / (batch_size * gradient_accumulation_steps)\n",
    "      = 1 * 114599 / (16 * 4)\n",
    "      = 1790\n",
    "```"
   ]
  },
  {
   "cell_type": "code",
   "execution_count": 25,
   "id": "06de7328-0872-4840-867f-bb95980f4373",
   "metadata": {},
   "outputs": [],
   "source": [
    "from transformers import TrainingArguments, Trainer\n",
    "\n",
    "training_args = TrainingArguments(\n",
    "    output_dir=f\"models/{model_name_or_path}\",          # 输出目录\n",
    "    per_device_train_batch_size=16,                     # 每个设备的训练批量大小\n",
    "    gradient_accumulation_steps=4,                     # 梯度累积步数\n",
    "    # per_device_eval_batch_size=8,                      # 每个设备的评估批量大小\n",
    "    learning_rate=1e-3,                                # 学习率\n",
    "    num_train_epochs=1,                                # 训练轮数\n",
    "    lr_scheduler_type=\"linear\",                        # 学习率调度器类型\n",
    "    warmup_ratio=0.1,                                  # 预热比例\n",
    "    logging_steps=10,                                 # 日志记录步数\n",
    "    save_strategy=\"steps\",                             # 模型保存策略\n",
    "    save_steps=100,                                    # 模型保存步数\n",
    "    # evaluation_strategy=\"steps\",                       # 评估策略\n",
    "    # eval_steps=500,                                    # 评估步数\n",
    "    optim=\"adamw_torch\",                               # 优化器类型\n",
    "    fp16=True,                                        # 是否使用混合精度训练\n",
    ")\n"
   ]
  },
  {
   "cell_type": "code",
   "execution_count": 26,
   "id": "bd5ed6af-6517-4116-8328-6c8c9ba37250",
   "metadata": {},
   "outputs": [
    {
     "name": "stderr",
     "output_type": "stream",
     "text": [
      "No label_names provided for model class `PeftModelForCausalLM`. Since `PeftModel` hides base models input arguments, if label_names is not given, label_names can't be set automatically within `Trainer`. Note that empty label_names list will be used instead.\n"
     ]
    }
   ],
   "source": [
    "trainer = Trainer(\n",
    "        model=qlora_model,\n",
    "        args=training_args,\n",
    "        train_dataset=tokenized_dataset,\n",
    "        data_collator=data_collator\n",
    "    )"
   ]
  },
  {
   "cell_type": "code",
   "execution_count": 33,
   "id": "2ada4294-c52f-4cbe-97f4-edb4cb303b3a",
   "metadata": {},
   "outputs": [],
   "source": [
    "from transformers import TrainingArguments, Trainer\n",
    "\n",
    "training_demo_args = TrainingArguments(\n",
    "    output_dir=f\"../model/demo/{model_name_or_path}\",          # 输出目录\n",
    "    per_device_train_batch_size=2,                     # 每个设备的训练批量大小\n",
    "    gradient_accumulation_steps=4,                     # 梯度累积步数\n",
    "    learning_rate=1e-3,                                # 学习率\n",
    "    max_steps=100,                                     # 训练步数\n",
    "    lr_scheduler_type=\"linear\",                        # 学习率调度器类型\n",
    "    warmup_ratio=0.1,                                  # 预热比例\n",
    "    logging_steps=10,                                 # 日志记录步数\n",
    "    save_strategy=\"steps\",                             # 模型保存策略\n",
    "    save_steps=20,                                    # 模型保存步数\n",
    "    optim=\"adamw_torch\",                               # 优化器类型\n",
    "    fp16=True,                                        # 是否使用混合精度训练\n",
    ")"
   ]
  },
  {
   "cell_type": "code",
   "execution_count": null,
   "id": "43f52651-e412-4424-919f-ca52fa6d34c1",
   "metadata": {},
   "outputs": [],
   "source": []
  },
  {
   "cell_type": "code",
   "execution_count": 34,
   "id": "238520e4-a8b7-4bf3-8413-c6e0febc3530",
   "metadata": {},
   "outputs": [
    {
     "name": "stderr",
     "output_type": "stream",
     "text": [
      "No label_names provided for model class `PeftModelForCausalLM`. Since `PeftModel` hides base models input arguments, if label_names is not given, label_names can't be set automatically within `Trainer`. Note that empty label_names list will be used instead.\n"
     ]
    }
   ],
   "source": [
    "trainer = Trainer(\n",
    "        model=qlora_model,\n",
    "        args=training_demo_args,\n",
    "        train_dataset=tokenized_dataset,\n",
    "        data_collator=data_collator\n",
    "    )"
   ]
  },
  {
   "cell_type": "code",
   "execution_count": 35,
   "id": "373722b3-b97b-4394-b202-1f2335d65597",
   "metadata": {},
   "outputs": [
    {
     "data": {
      "text/html": [
       "\n",
       "    <div>\n",
       "      \n",
       "      <progress value='100' max='100' style='width:300px; height:20px; vertical-align: middle;'></progress>\n",
       "      [100/100 01:21, Epoch 0/1]\n",
       "    </div>\n",
       "    <table border=\"1\" class=\"dataframe\">\n",
       "  <thead>\n",
       " <tr style=\"text-align: left;\">\n",
       "      <th>Step</th>\n",
       "      <th>Training Loss</th>\n",
       "    </tr>\n",
       "  </thead>\n",
       "  <tbody>\n",
       "    <tr>\n",
       "      <td>10</td>\n",
       "      <td>4.681600</td>\n",
       "    </tr>\n",
       "    <tr>\n",
       "      <td>20</td>\n",
       "      <td>3.854900</td>\n",
       "    </tr>\n",
       "    <tr>\n",
       "      <td>30</td>\n",
       "      <td>3.727300</td>\n",
       "    </tr>\n",
       "    <tr>\n",
       "      <td>40</td>\n",
       "      <td>3.711400</td>\n",
       "    </tr>\n",
       "    <tr>\n",
       "      <td>50</td>\n",
       "      <td>3.662000</td>\n",
       "    </tr>\n",
       "    <tr>\n",
       "      <td>60</td>\n",
       "      <td>3.531000</td>\n",
       "    </tr>\n",
       "    <tr>\n",
       "      <td>70</td>\n",
       "      <td>3.588000</td>\n",
       "    </tr>\n",
       "    <tr>\n",
       "      <td>80</td>\n",
       "      <td>3.552000</td>\n",
       "    </tr>\n",
       "    <tr>\n",
       "      <td>90</td>\n",
       "      <td>3.589700</td>\n",
       "    </tr>\n",
       "    <tr>\n",
       "      <td>100</td>\n",
       "      <td>3.556500</td>\n",
       "    </tr>\n",
       "  </tbody>\n",
       "</table><p>"
      ],
      "text/plain": [
       "<IPython.core.display.HTML object>"
      ]
     },
     "metadata": {},
     "output_type": "display_data"
    },
    {
     "data": {
      "text/plain": [
       "TrainOutput(global_step=100, training_loss=3.745430145263672, metrics={'train_runtime': 82.585, 'train_samples_per_second': 9.687, 'train_steps_per_second': 1.211, 'total_flos': 3777398432931840.0, 'train_loss': 3.745430145263672, 'epoch': 0.006980802792321117})"
      ]
     },
     "execution_count": 35,
     "metadata": {},
     "output_type": "execute_result"
    }
   ],
   "source": [
    "trainer.train()\n"
   ]
  },
  {
   "cell_type": "code",
   "execution_count": 36,
   "id": "34330ec8-cb97-4942-97bb-93f2171b9f44",
   "metadata": {},
   "outputs": [],
   "source": [
    "trainer.model.save_pretrained(f\"../model/demo/{model_name_or_path}\")"
   ]
  },
  {
   "cell_type": "code",
   "execution_count": null,
   "id": "ef5e411e-d290-49c2-98c5-d7dff3da6e53",
   "metadata": {},
   "outputs": [],
   "source": []
  },
  {
   "cell_type": "markdown",
   "id": "c4747b0c-89c6-4b0e-8305-17c5033c4669",
   "metadata": {},
   "source": [
    "# 模型推理 - 使用 QLoRA 微调后的 ChatGLM3-6B"
   ]
  },
  {
   "cell_type": "code",
   "execution_count": 1,
   "id": "eb4aa385-3a6b-4d40-8a36-c2940fe465ad",
   "metadata": {},
   "outputs": [
    {
     "name": "stderr",
     "output_type": "stream",
     "text": [
      "The cache for model files in Transformers v4.22.0 has been updated. Migrating your old cache. This is a one-time only operation. You can interrupt this and resume the migration later on by calling `transformers.utils.move_cache()`.\n"
     ]
    },
    {
     "data": {
      "application/vnd.jupyter.widget-view+json": {
       "model_id": "6bdbcf7889e34166a424c62b40e978bf",
       "version_major": 2,
       "version_minor": 0
      },
      "text/plain": [
       "0it [00:00, ?it/s]"
      ]
     },
     "metadata": {},
     "output_type": "display_data"
    }
   ],
   "source": [
    "import os\n",
    "os.environ[\"CUDA_VISIBLE_DEVICES\"] = \"1\"\n",
    "\n",
    "import torch\n",
    "from transformers import AutoModel, AutoTokenizer, BitsAndBytesConfig\n",
    "from peft import PeftModel, PeftConfig\n",
    "\n",
    "# 定义全局变量和参数\n",
    "model_name_or_path = 'THUDM/chatglm3-6b'  # 模型ID或本地路径\n",
    "peft_model_path = f\"../model/demo/{model_name_or_path}\""
   ]
  },
  {
   "cell_type": "code",
   "execution_count": 2,
   "id": "e39ae037-dae1-4f73-bdf5-7d52a298e35e",
   "metadata": {},
   "outputs": [
    {
     "data": {
      "application/vnd.jupyter.widget-view+json": {
       "model_id": "3ffa636a8ed248358704281abc8dbd65",
       "version_major": 2,
       "version_minor": 0
      },
      "text/plain": [
       "Loading checkpoint shards:   0%|          | 0/7 [00:00<?, ?it/s]"
      ]
     },
     "metadata": {},
     "output_type": "display_data"
    },
    {
     "data": {
      "text/plain": [
       "ChatGLMForConditionalGeneration(\n",
       "  (transformer): ChatGLMModel(\n",
       "    (embedding): Embedding(\n",
       "      (word_embeddings): Embedding(65024, 4096)\n",
       "    )\n",
       "    (rotary_pos_emb): RotaryEmbedding()\n",
       "    (encoder): GLMTransformer(\n",
       "      (layers): ModuleList(\n",
       "        (0-27): 28 x GLMBlock(\n",
       "          (input_layernorm): RMSNorm()\n",
       "          (self_attention): SelfAttention(\n",
       "            (query_key_value): Linear4bit(in_features=4096, out_features=4608, bias=True)\n",
       "            (core_attention): CoreAttention(\n",
       "              (attention_dropout): Dropout(p=0.0, inplace=False)\n",
       "            )\n",
       "            (dense): Linear4bit(in_features=4096, out_features=4096, bias=False)\n",
       "          )\n",
       "          (post_attention_layernorm): RMSNorm()\n",
       "          (mlp): MLP(\n",
       "            (dense_h_to_4h): Linear4bit(in_features=4096, out_features=27392, bias=False)\n",
       "            (dense_4h_to_h): Linear4bit(in_features=13696, out_features=4096, bias=False)\n",
       "          )\n",
       "        )\n",
       "      )\n",
       "      (final_layernorm): RMSNorm()\n",
       "    )\n",
       "    (output_layer): Linear(in_features=4096, out_features=65024, bias=False)\n",
       "  )\n",
       ")"
      ]
     },
     "execution_count": 2,
     "metadata": {},
     "output_type": "execute_result"
    }
   ],
   "source": [
    "config = PeftConfig.from_pretrained(peft_model_path)\n",
    "\n",
    "q_config = BitsAndBytesConfig(load_in_4bit=True,\n",
    "                              bnb_4bit_quant_type='nf4',\n",
    "                              bnb_4bit_use_double_quant=True,\n",
    "                              bnb_4bit_compute_dtype=torch.float32)\n",
    "\n",
    "base_model = AutoModel.from_pretrained(config.base_model_name_or_path,\n",
    "                                       quantization_config=q_config,\n",
    "                                       trust_remote_code=True,\n",
    "                                       device_map='auto')\n",
    "base_model.requires_grad_(False)\n",
    "base_model.eval()"
   ]
  },
  {
   "cell_type": "code",
   "execution_count": 3,
   "id": "4e3e95ff-90bb-4b01-bd10-d43db1731931",
   "metadata": {},
   "outputs": [
    {
     "name": "stderr",
     "output_type": "stream",
     "text": [
      "Setting eos_token is not supported, use the default one.\n",
      "Setting pad_token is not supported, use the default one.\n",
      "Setting unk_token is not supported, use the default one.\n"
     ]
    }
   ],
   "source": [
    "tokenizer = AutoTokenizer.from_pretrained(config.base_model_name_or_path, trust_remote_code=True)\n",
    "peft_model = PeftModel.from_pretrained(base_model, peft_model_path)\n"
   ]
  },
  {
   "cell_type": "markdown",
   "id": "49fb5cf5-4ec4-489d-b600-f132b2642767",
   "metadata": {},
   "source": [
    "# 微调前后效果对比"
   ]
  },
  {
   "cell_type": "code",
   "execution_count": 4,
   "id": "b76c0e1f-0b25-4a9c-8657-6973814e54ee",
   "metadata": {},
   "outputs": [],
   "source": [
    "def base_model_interface(input_text:str)->any:\n",
    "    response, history = base_model.chat(tokenizer=tokenizer, query=input_text)\n",
    "    return response\n",
    "\n",
    "def lora_model_interface(input_text:str)->any:\n",
    "    response, history = peft_model.chat(tokenizer=tokenizer, query=input_text)\n",
    "    return response"
   ]
  },
  {
   "cell_type": "markdown",
   "id": "4901fee0-478f-4c1e-9411-c102fc50f612",
   "metadata": {},
   "source": [
    "# 对比 例子 1"
   ]
  },
  {
   "cell_type": "code",
   "execution_count": 8,
   "id": "5164bc12-9c06-4b4a-b2b2-3f6184d5a877",
   "metadata": {},
   "outputs": [
    {
     "name": "stdout",
     "output_type": "stream",
     "text": [
      "输入：\n",
      "类型#裙*版型#显瘦*风格#文艺*风格#简约*图案#印花*图案#撞色*裙下摆#压褶*裙长#连衣裙*裙领型#圆领\n",
      "ChatGLM3-6B 微调前: \n",
      "这款连衣裙采用了撞色和印花的设计，显得非常有文艺的感觉，简单大气，又带有一丝优雅的气息。圆领的设计，显得优雅又温柔，更有一种温婉的气质。裙摆采用了经典的A字型设计，简单又显瘦，又显得优雅又大方。\n",
      "ChatGLM3-6B 微调后: \n",
      "这款连衣裙采用经典的圆领设计，凸显出颈部的线条美感，展现女性优雅气质。整体设计采用撞色拼接，彰显出视觉的层次感。简约的图案，展现出文艺气息，彰显出时尚大气的感觉。裙摆采用休闲的压褶设计，不仅显瘦还展现出简约大方的气质。\n"
     ]
    }
   ],
   "source": [
    "input_text = '类型#裙*版型#显瘦*风格#文艺*风格#简约*图案#印花*图案#撞色*裙下摆#压褶*裙长#连衣裙*裙领型#圆领'\n",
    "print(f'输入：\\n{input_text}')\n",
    "print(f\"ChatGLM3-6B 微调前: \\n{base_model_interface(input_text)}\")\n",
    "print(f\"ChatGLM3-6B 微调后: \\n{lora_model_interface(input_text)}\")"
   ]
  },
  {
   "cell_type": "markdown",
   "id": "7d904020-3919-47f0-98c7-6642fc566e9b",
   "metadata": {},
   "source": [
    "# 对比 例子 2"
   ]
  },
  {
   "cell_type": "code",
   "execution_count": 9,
   "id": "c2c942e6-c051-4cae-aa34-6bf133d42a27",
   "metadata": {},
   "outputs": [
    {
     "name": "stdout",
     "output_type": "stream",
     "text": [
      "输入：\n",
      "类型#上衣*版型#宽松*风格#英伦*图案#格子*衣样式#马甲*衣样式#西装*衣长#短款\n",
      "ChatGLM3-6B 微调前: \n",
      "这款短款西装外套采用英伦风设计，宽松的版型设计，穿着舒适又自然。上下采用了经典的格纹设计，充满时尚感。马甲设计，增加层次感，让整体造型更有层次感。\n",
      "ChatGLM3-6B 微调后: \n",
      "宽松的短款西装外套，用经典的格纹元素来装饰，显得更有英伦风的味道。衣身采用了宽松的版型，凸显了随性的气质，同时也不失时尚感。衣袖处采用了双排扣设计，让穿着更具有层次感。衣身采用了马甲来装饰，更是增添了几分休闲的气息。\n"
     ]
    }
   ],
   "source": [
    "input_text = '类型#上衣*版型#宽松*风格#英伦*图案#格子*衣样式#马甲*衣样式#西装*衣长#短款'\n",
    "print(f'输入：\\n{input_text}')\n",
    "print(f\"ChatGLM3-6B 微调前: \\n{base_model_interface(input_text)}\")\n",
    "print(f\"ChatGLM3-6B 微调后: \\n{lora_model_interface(input_text)}\")"
   ]
  },
  {
   "cell_type": "markdown",
   "id": "639f9170-c837-4209-8ad2-41c57175e53b",
   "metadata": {},
   "source": [
    "# 对比 例子 3"
   ]
  },
  {
   "cell_type": "code",
   "execution_count": 10,
   "id": "8cfa1100-3cde-44b5-9660-6fd118f3184d",
   "metadata": {},
   "outputs": [
    {
     "name": "stdout",
     "output_type": "stream",
     "text": [
      "输入：\n",
      "类型#上衣*版型#显瘦*风格#知性*风格#休闲*衣样式#衬衫*衣款式#腰带\n",
      "ChatGLM3-6B 微调前: \n",
      "衬衫领带，可以轻松搭配出知性休闲风格，还可以修饰腰部线条，显瘦又显高挑。在衬衫的腰带处，还采用了双排扣设计，在视觉上突出腰线，还能让身材更加修长。\n",
      "ChatGLM3-6B 微调后: \n",
      "衬衫领的衬衫，是很多女性朋友的最爱。这款衬衫的版型流畅，可以很好地修饰身材，并且能够很好地展现女性的气质。领口是经典的衬衫领，显得知性大气，十分优雅。衣身是宽松的版型，能够很好地修饰身材，同时穿着十分舒适，十分休闲。腰间有系腰带，可以很好的凸显腰身，十分显瘦。\n"
     ]
    }
   ],
   "source": [
    "input_text = '类型#上衣*版型#显瘦*风格#知性*风格#休闲*衣样式#衬衫*衣款式#腰带'\n",
    "print(f'输入：\\n{input_text}')\n",
    "print(f\"ChatGLM3-6B 微调前: \\n{base_model_interface(input_text)}\")\n",
    "print(f\"ChatGLM3-6B 微调后: \\n{lora_model_interface(input_text)}\")"
   ]
  },
  {
   "cell_type": "markdown",
   "id": "d6c27199-98c1-46b6-9a1d-1503dc0f1ed3",
   "metadata": {},
   "source": [
    "# 对比 例子 4"
   ]
  },
  {
   "cell_type": "code",
   "execution_count": null,
   "id": "05608b31-cc8e-45e0-8031-794382312bf2",
   "metadata": {},
   "outputs": [],
   "source": [
    "input_text = '类型#裙*图案#印花*裙型#a字*裙下摆#荷叶边*裙袖长#七分袖*裙领型#v领*裙领型#翻领'\n",
    "print(f'输入：\\n{input_text}')\n",
    "print(f\"ChatGLM3-6B 微调前: \\n{base_model_interface(input_text)}\")\n",
    "print(f\"ChatGLM3-6B 微调后: \\n{lora_model_interface(input_text)}\")"
   ]
  },
  {
   "cell_type": "code",
   "execution_count": null,
   "id": "9ef6b81a-e717-4a20-889d-d43fad5716b5",
   "metadata": {},
   "outputs": [],
   "source": [
    "# 对比 例子 5"
   ]
  },
  {
   "cell_type": "code",
   "execution_count": null,
   "id": "95562380-4ed7-408b-8c8c-33097ae3333e",
   "metadata": {},
   "outputs": [],
   "source": [
    "input_text = '类型#上衣*版型#显瘦*风格#知性*风格#休闲*衣样式#衬衫*衣款式#腰带'\n",
    "print(f'输入：\\n{input_text}')\n",
    "print(f\"ChatGLM3-6B 微调前: \\n{base_model_interface(input_text)}\")\n",
    "print(f\"ChatGLM3-6B 微调后: \\n{lora_model_interface(input_text)}\")"
   ]
  },
  {
   "cell_type": "code",
   "execution_count": null,
   "id": "f2099354-a9f6-4bd9-ae42-f06d7121488d",
   "metadata": {},
   "outputs": [],
   "source": [
    "# 对比 例子 6"
   ]
  },
  {
   "cell_type": "code",
   "execution_count": null,
   "id": "9e43b269-ddf5-496a-b23a-211187fc572d",
   "metadata": {},
   "outputs": [],
   "source": [
    "input_text = '类型#上衣*版型#显瘦*风格#知性*风格#休闲*衣样式#衬衫*衣款式#腰带'\n",
    "print(f'输入：\\n{input_text}')\n",
    "print(f\"ChatGLM3-6B 微调前: \\n{base_model_interface(input_text)}\")\n",
    "print(f\"ChatGLM3-6B 微调后: \\n{lora_model_interface(input_text)}\")"
   ]
  },
  {
   "cell_type": "code",
   "execution_count": null,
   "id": "74b75392-4e97-4498-82a1-4bf8a13e92ad",
   "metadata": {},
   "outputs": [],
   "source": [
    "# 对比 例子 7"
   ]
  },
  {
   "cell_type": "code",
   "execution_count": null,
   "id": "5db50af1-2f6d-4447-976f-60d318aacd54",
   "metadata": {},
   "outputs": [],
   "source": [
    "input_text = '类型#上衣*版型#显瘦*风格#知性*风格#休闲*衣样式#衬衫*衣款式#腰带'\n",
    "print(f'输入：\\n{input_text}')\n",
    "print(f\"ChatGLM3-6B 微调前: \\n{base_model_interface(input_text)}\")\n",
    "print(f\"ChatGLM3-6B 微调后: \\n{lora_model_interface(input_text)}\")"
   ]
  },
  {
   "cell_type": "code",
   "execution_count": null,
   "id": "290597eb-b353-4125-92a5-2c97eb49a7d2",
   "metadata": {},
   "outputs": [],
   "source": [
    "# 对比 例子 8"
   ]
  },
  {
   "cell_type": "code",
   "execution_count": null,
   "id": "0d7b4ce2-53d7-4772-83ac-1318ffe13e36",
   "metadata": {},
   "outputs": [],
   "source": [
    "input_text = '类型#上衣*版型#显瘦*风格#知性*风格#休闲*衣样式#衬衫*衣款式#腰带'\n",
    "print(f'输入：\\n{input_text}')\n",
    "print(f\"ChatGLM3-6B 微调前: \\n{base_model_interface(input_text)}\")\n",
    "print(f\"ChatGLM3-6B 微调后: \\n{lora_model_interface(input_text)}\")"
   ]
  },
  {
   "cell_type": "code",
   "execution_count": null,
   "id": "af6b5245-9620-49df-9344-263c17048b24",
   "metadata": {},
   "outputs": [],
   "source": [
    "# 对比 例子 9"
   ]
  },
  {
   "cell_type": "code",
   "execution_count": null,
   "id": "1aa64671-8a48-4ec5-a2d3-b80fc47a2276",
   "metadata": {},
   "outputs": [],
   "source": [
    "input_text = '类型#上衣*版型#显瘦*风格#知性*风格#休闲*衣样式#衬衫*衣款式#腰带'\n",
    "print(f'输入：\\n{input_text}')\n",
    "print(f\"ChatGLM3-6B 微调前: \\n{base_model_interface(input_text)}\")\n",
    "print(f\"ChatGLM3-6B 微调后: \\n{lora_model_interface(input_text)}\")"
   ]
  },
  {
   "cell_type": "code",
   "execution_count": null,
   "id": "cce9cfa1-b970-44b1-9035-082bb1db0388",
   "metadata": {},
   "outputs": [],
   "source": [
    "# 对比 例子 10"
   ]
  },
  {
   "cell_type": "code",
   "execution_count": null,
   "id": "a7866c13-1e7a-43b4-906f-ecf0b6293fb7",
   "metadata": {},
   "outputs": [],
   "source": [
    "input_text = '类型#上衣*版型#显瘦*风格#知性*风格#休闲*衣样式#衬衫*衣款式#腰带'\n",
    "print(f'输入：\\n{input_text}')\n",
    "print(f\"ChatGLM3-6B 微调前: \\n{base_model_interface(input_text)}\")\n",
    "print(f\"ChatGLM3-6B 微调后: \\n{lora_model_interface(input_text)}\")"
   ]
  }
 ],
 "metadata": {
  "kernelspec": {
   "display_name": "Python 3 (ipykernel)",
   "language": "python",
   "name": "python3"
  },
  "language_info": {
   "codemirror_mode": {
    "name": "ipython",
    "version": 3
   },
   "file_extension": ".py",
   "mimetype": "text/x-python",
   "name": "python",
   "nbconvert_exporter": "python",
   "pygments_lexer": "ipython3",
   "version": "3.11.6"
  }
 },
 "nbformat": 4,
 "nbformat_minor": 5
}
